{
 "cells": [
  {
   "cell_type": "code",
   "execution_count": 1,
   "metadata": {},
   "outputs": [],
   "source": [
    "import torch\n",
    "\n",
    "import numpy as np\n",
    "import time\n",
    "import matplotlib.pyplot as plt\n",
    "\n",
    "from buffer import ReplayBuffer\n",
    "import gymnasium as gym        \n",
    "\n",
    "device = torch.device('mps')\n",
    "\n",
    "%load_ext autoreload\n",
    "%autoreload 2"
   ]
  },
  {
   "cell_type": "code",
   "execution_count": 2,
   "metadata": {},
   "outputs": [
    {
     "name": "stderr",
     "output_type": "stream",
     "text": [
      "A.L.E: Arcade Learning Environment (version 0.8.1+53f58b7)\n",
      "[Powered by Stella]\n"
     ]
    }
   ],
   "source": [
    "class channelFirst(gym.ObservationWrapper):\n",
    "    def __init__(self, env: gym.Env):\n",
    "        gym.ObservationWrapper.__init__(self, env)\n",
    "        \n",
    "    def observation(self, observation):\n",
    "        observation = (observation / 255) - 0.5\n",
    "        return observation.transpose([2, 0, 1])\n",
    "\n",
    "env = gym.make('ALE/Boxing-v5', render_mode=\"rgb_array\")\n",
    "env = gym.wrappers.ResizeObservation(env, shape=(64,64))\n",
    "env = channelFirst(env)\n",
    "obs, _ = env.reset()\n",
    "\n",
    "action = env.action_space.sample()\n",
    "\n",
    "def plot_obs(obs):\n",
    "    obs = obs.transpose([1,2,0])\n",
    "    plt.imshow(((obs + 0.5) * 255).astype(int))"
   ]
  },
  {
   "cell_type": "code",
   "execution_count": 3,
   "metadata": {},
   "outputs": [],
   "source": [
    "encode = torch.load('./models/encoder', map_location=torch.device('cpu') )\n",
    "decoder = torch.load('./models/decoder', map_location=torch.device('cpu') )\n",
    "rssm = torch.load('./models/rssm_model', map_location=torch.device('cpu') )\n",
    "actor = torch.load('./models/actor', map_location=torch.device('cpu'))"
   ]
  },
  {
   "cell_type": "code",
   "execution_count": 4,
   "metadata": {},
   "outputs": [
    {
     "data": {
      "image/png": "[encoded data removed]",
      "text/plain": [
       "<Figure size 640x480 with 1 Axes>"
      ]
     },
     "metadata": {},
     "output_type": "display_data"
    }
   ],
   "source": [
    "obs, _ = env.reset()\n",
    "plot_obs(obs)"
   ]
  },
  {
   "cell_type": "code",
   "execution_count": 5,
   "metadata": {},
   "outputs": [
    {
     "name": "stdout",
     "output_type": "stream",
     "text": [
      "torch.Size([1, 1024])\n"
     ]
    }
   ],
   "source": [
    "e_obs = encode(torch.from_numpy(obs).to(dtype=torch.float))\n",
    "print(e_obs.shape)"
   ]
  },
  {
   "cell_type": "code",
   "execution_count": 6,
   "metadata": {},
   "outputs": [],
   "source": [
    "posterior = torch.zeros((1, 600))\n",
    "deterministic = torch.zeros((1, 600))\n",
    "\n",
    "_, posterior = rssm.representation(e_obs, deterministic)"
   ]
  },
  {
   "cell_type": "code",
   "execution_count": 7,
   "metadata": {},
   "outputs": [],
   "source": [
    "from PIL import Image\n",
    "\n",
    "frames = []\n",
    "\n",
    "for i in range(50):\n",
    "    actions= actor(posterior, deterministic)\n",
    "    deterministic = rssm.recurrent(posterior, actions, deterministic)\n",
    "    dist, posterior = rssm.transition(deterministic)\n",
    "    d_obs = decoder(posterior, deterministic)\n",
    "    d_obs = d_obs.mean.squeeze().detach().numpy()\n",
    "    obs = ((d_obs.transpose([1,2,0]) + 0.5) * 255).astype(np.uint8)\n",
    "    frames.append(Image.fromarray(obs, \"RGB\"))\n",
    "    # plot_obs(d_obs)\n",
    "    \n",
    "frame_one = frames[0]\n",
    "frame_one.save(\"./gif/imagine.gif\", format=\"GIF\", append_images=frames, save_all=True, duration=100, loop=0)"
   ]
  }
 ],
 "metadata": {
  "kernelspec": {
   "display_name": "world-model",
   "language": "python",
   "name": "python3"
  },
  "language_info": {
   "codemirror_mode": {
    "name": "ipython",
    "version": 3
   },
   "file_extension": ".py",
   "mimetype": "text/x-python",
   "name": "python",
   "nbconvert_exporter": "python",
   "pygments_lexer": "ipython3",
   "version": "3.10.0"
  }
 },
 "nbformat": 4,
 "nbformat_minor": 2
}
