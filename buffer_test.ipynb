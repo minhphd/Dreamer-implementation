{
 "cells": [
  {
   "cell_type": "code",
   "execution_count": 1,
   "metadata": {},
   "outputs": [],
   "source": [
    "import torch\n",
    "\n",
    "import numpy as np\n",
    "import time\n",
    "import matplotlib.pyplot as plt\n",
    "\n",
    "from buffer import ReplayBuffer\n",
    "import gymnasium as gym        \n",
    "\n",
    "device = torch.device('mps')\n",
    "\n",
    "%load_ext autoreload\n",
    "%autoreload 2"
   ]
  },
  {
   "cell_type": "code",
   "execution_count": 29,
   "metadata": {},
   "outputs": [],
   "source": [
    "class channelFirst(gym.ObservationWrapper):\n",
    "    def __init__(self, env: gym.Env):\n",
    "        gym.ObservationWrapper.__init__(self, env)\n",
    "        \n",
    "    def observation(self, observation):\n",
    "        return observation.T\n",
    "\n",
    "env = gym.make('ALE/Boxing-v5', render_mode=\"rgb_array\")\n",
    "env = gym.wrappers.ResizeObservation(env, shape=(64,64))\n",
    "# env = gym.wrappers.NormalizeObservation(env)\n",
    "# env = channelFirst(env)\n",
    "obs, _ = env.reset()"
   ]
  },
  {
   "cell_type": "code",
   "execution_count": 30,
   "metadata": {},
   "outputs": [
    {
     "data": {
      "text/plain": [
       "<matplotlib.image.AxesImage at 0x1698857e0>"
      ]
     },
     "execution_count": 30,
     "metadata": {},
     "output_type": "execute_result"
    },
    {
     "data": {
      "image/png": "[encoded data removed]",
      "text/plain": [
       "<Figure size 640x480 with 1 Axes>"
      ]
     },
     "metadata": {},
     "output_type": "display_data"
    }
   ],
   "source": [
    "# plt.imshow(obs.transpose([1, 2, 0]))\n",
    "plt.imshow(obs)"
   ]
  },
  {
   "cell_type": "code",
   "execution_count": 22,
   "metadata": {},
   "outputs": [
    {
     "name": "stdout",
     "output_type": "stream",
     "text": [
      "\n",
      "-----------initialized memory----------              \n",
      "\n",
      "obs_buffer_shape: (50, 3, 64, 64)\n",
      "actions_buffer_shape: (50, 4)\n",
      "rewards_buffer_shape: (50, 1)\n",
      "nxt_obs_buffer_shape: (50, 3, 64, 64)\n",
      "dones_buffer_shape: (50, 1)\n",
      "\n",
      "----------------------------------------\n",
      "              \n",
      "0\n"
     ]
    }
   ],
   "source": [
    "buffer = ReplayBuffer(50, env, True)\n",
    "print(len(buffer))"
   ]
  },
  {
   "cell_type": "code",
   "execution_count": 1,
   "metadata": {},
   "outputs": [
    {
     "ename": "UnpicklingError",
     "evalue": "pickle data was truncated",
     "output_type": "error",
     "traceback": [
      "\u001b[0;31m---------------------------------------------------------------------------\u001b[0m",
      "\u001b[0;31mUnpicklingError\u001b[0m                           Traceback (most recent call last)",
      "Cell \u001b[0;32mIn[1], line 4\u001b[0m\n\u001b[1;32m      2\u001b[0m l_b \u001b[38;5;241m=\u001b[39m \u001b[38;5;28;01mNone\u001b[39;00m\n\u001b[1;32m      3\u001b[0m \u001b[38;5;28;01mwith\u001b[39;00m \u001b[38;5;28mopen\u001b[39m(\u001b[38;5;124m'\u001b[39m\u001b[38;5;124m./dataset/prefilled_buffer.pickle\u001b[39m\u001b[38;5;124m'\u001b[39m, \u001b[38;5;124m'\u001b[39m\u001b[38;5;124mrb\u001b[39m\u001b[38;5;124m'\u001b[39m) \u001b[38;5;28;01mas\u001b[39;00m f:\n\u001b[0;32m----> 4\u001b[0m     l_b \u001b[38;5;241m=\u001b[39m \u001b[43mpickle\u001b[49m\u001b[38;5;241;43m.\u001b[39;49m\u001b[43mload\u001b[49m\u001b[43m(\u001b[49m\u001b[43mf\u001b[49m\u001b[43m)\u001b[49m\n\u001b[1;32m      6\u001b[0m \u001b[38;5;28mprint\u001b[39m(l_b)\n",
      "\u001b[0;31mUnpicklingError\u001b[0m: pickle data was truncated"
     ]
    }
   ],
   "source": [
    "import pickle\n",
    "l_b = None\n",
    "with open('./dataset/prefilled_buffer.pickle', 'rb') as f:\n",
    "    l_b = pickle.load(f)\n",
    "    \n",
    "print(l_b)"
   ]
  },
  {
   "cell_type": "code",
   "execution_count": null,
   "metadata": {},
   "outputs": [],
   "source": []
  },
  {
   "cell_type": "code",
   "execution_count": 23,
   "metadata": {},
   "outputs": [
    {
     "name": "stderr",
     "output_type": "stream",
     "text": [
      "100%|██████████| 60/60 [00:00<00:00, 510.63it/s]\n"
     ]
    }
   ],
   "source": [
    "from tqdm import tqdm\n",
    "\n",
    "for i in tqdm(range(60)):\n",
    "    action = env.action_space.sample()\n",
    "    next_obs, reward, termination, truncation, _ = env.step(action)\n",
    "    \n",
    "    buffer.add(obs, action, reward, next_obs, termination | truncation)\n",
    "    obs = next_obs"
   ]
  },
  {
   "cell_type": "code",
   "execution_count": 24,
   "metadata": {},
   "outputs": [
    {
     "name": "stdout",
     "output_type": "stream",
     "text": [
      "10\n",
      "True\n"
     ]
    }
   ],
   "source": [
    "print(len(buffer))\n",
    "print(buffer.full)"
   ]
  },
  {
   "cell_type": "code",
   "execution_count": 25,
   "metadata": {},
   "outputs": [
    {
     "name": "stdout",
     "output_type": "stream",
     "text": [
      "torch.Size([50, 5, 3, 64, 64])\n",
      "torch.Size([50, 5, 4])\n",
      "torch.Size([50, 5, 1])\n",
      "torch.Size([50, 5, 3, 64, 64])\n",
      "torch.Size([50, 5, 1])\n"
     ]
    }
   ],
   "source": [
    "batch = buffer.sample(50,5, device)\n",
    "print(batch.obs.shape)\n",
    "print(batch.actions.shape)\n",
    "print(batch.rewards.shape)\n",
    "print(batch.next_obs.shape)\n",
    "print(batch.dones.shape)"
   ]
  },
  {
   "cell_type": "code",
   "execution_count": null,
   "metadata": {},
   "outputs": [],
   "source": []
  }
 ],
 "metadata": {
  "kernelspec": {
   "display_name": "world-model",
   "language": "python",
   "name": "python3"
  },
  "language_info": {
   "codemirror_mode": {
    "name": "ipython",
    "version": 3
   },
   "file_extension": ".py",
   "mimetype": "text/x-python",
   "name": "python",
   "nbconvert_exporter": "python",
   "pygments_lexer": "ipython3",
   "version": "3.10.0"
  }
 },
 "nbformat": 4,
 "nbformat_minor": 2
}
