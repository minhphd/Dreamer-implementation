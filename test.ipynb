{
 "cells": [
  {
   "cell_type": "code",
   "execution_count": 51,
   "metadata": {},
   "outputs": [
    {
     "name": "stdout",
     "output_type": "stream",
     "text": [
      "The autoreload extension is already loaded. To reload it, use:\n",
      "  %reload_ext autoreload\n"
     ]
    }
   ],
   "source": [
    "import models\n",
    "import torch\n",
    "import gymnasium as gym\n",
    "import matplotlib.pyplot as plt\n",
    "import numpy as np\n",
    "\n",
    "%load_ext autoreload\n",
    "%autoreload 2\n",
    "\n",
    "device=torch.device('cpu')"
   ]
  },
  {
   "cell_type": "code",
   "execution_count": 52,
   "metadata": {},
   "outputs": [],
   "source": [
    "# env = gym.make('ALE/Breakout-v5', render_mode=\"rgb_array\")\n",
    "# env = gym.wrappers.ResizeObservation(env, shape=(64,64))\n",
    "# # env = gym.wrappers.NormalizeObservation(env)\n",
    "# obs, _ = env.reset()\n",
    "# obs = obs.T"
   ]
  },
  {
   "cell_type": "code",
   "execution_count": 53,
   "metadata": {},
   "outputs": [
    {
     "name": "stdout",
     "output_type": "stream",
     "text": [
      "ConvEncoder(\n",
      "  (conv_layer): Sequential(\n",
      "    (0): Conv2d(3, 32, kernel_size=(4, 4), stride=(2, 2), padding=valid)\n",
      "    (1): ReLU()\n",
      "    (2): Conv2d(32, 64, kernel_size=(4, 4), stride=(2, 2), padding=valid)\n",
      "    (3): ReLU()\n",
      "    (4): Conv2d(64, 128, kernel_size=(4, 4), stride=(2, 2), padding=valid)\n",
      "    (5): ReLU()\n",
      "    (6): Conv2d(128, 256, kernel_size=(4, 4), stride=(2, 2), padding=valid)\n",
      "    (7): ReLU()\n",
      "  )\n",
      ")\n"
     ]
    }
   ],
   "source": [
    "net = models.ConvEncoder().to(device)\n",
    "print(net)"
   ]
  },
  {
   "cell_type": "code",
   "execution_count": 54,
   "metadata": {},
   "outputs": [
    {
     "name": "stdout",
     "output_type": "stream",
     "text": [
      "(3, 64, 64)\n"
     ]
    }
   ],
   "source": [
    "obs = np.random.random((3,64,64))\n",
    "print(obs.shape)\n",
    "out = net(torch.from_numpy(obs).to(device, dtype=torch.float))"
   ]
  },
  {
   "cell_type": "code",
   "execution_count": 55,
   "metadata": {},
   "outputs": [
    {
     "name": "stdout",
     "output_type": "stream",
     "text": [
      "ConvDecoder(\n",
      "  (net): Sequential(\n",
      "    (0): Linear(in_features=1200, out_features=1024, bias=True)\n",
      "    (1): Unflatten(dim=1, unflattened_size=(1024, 1))\n",
      "    (2): Unflatten(dim=2, unflattened_size=(1, 1))\n",
      "    (3): ConvTranspose2d(1024, 128, kernel_size=(5, 5), stride=(2, 2))\n",
      "    (4): ReLU()\n",
      "    (5): ConvTranspose2d(128, 64, kernel_size=(5, 5), stride=(2, 2))\n",
      "    (6): ReLU()\n",
      "    (7): ConvTranspose2d(64, 32, kernel_size=(6, 6), stride=(2, 2))\n",
      "    (8): ReLU()\n",
      "    (9): ConvTranspose2d(32, 3, kernel_size=(6, 6), stride=(2, 2))\n",
      "  )\n",
      ")\n"
     ]
    }
   ],
   "source": [
    "decoder = models.ConvDecoder(600, 600).to(device)\n",
    "print(decoder)"
   ]
  },
  {
   "cell_type": "code",
   "execution_count": 56,
   "metadata": {},
   "outputs": [
    {
     "name": "stdout",
     "output_type": "stream",
     "text": [
      "Independent(Normal(loc: torch.Size([50, 49, 3, 64, 64]), scale: torch.Size([50, 49, 3, 64, 64])), 3)\n"
     ]
    }
   ],
   "source": [
    "post = torch.rand((50,49, 600)).to(device)\n",
    "det = torch.rand((50,49, 600)).to(device)\n",
    "decoded = decoder(post, det)\n",
    "print(decoded)"
   ]
  },
  {
   "cell_type": "code",
   "execution_count": 57,
   "metadata": {},
   "outputs": [
    {
     "name": "stdout",
     "output_type": "stream",
     "text": [
      "RSSM(\n",
      "  (recurrent_linear): Sequential(\n",
      "    (0): Linear(in_features=618, out_features=200, bias=True)\n",
      "    (1): ELU(alpha=1.0)\n",
      "  )\n",
      "  (gru_cell): GRUCell(200, 600)\n",
      "  (representatio_model): Sequential(\n",
      "    (0): Linear(in_features=1624, out_features=200, bias=True)\n",
      "    (1): ELU(alpha=1.0)\n",
      "    (2): Linear(in_features=200, out_features=1200, bias=True)\n",
      "  )\n",
      "  (transition_model): Sequential(\n",
      "    (0): Linear(in_features=600, out_features=200, bias=True)\n",
      "    (1): ELU(alpha=1.0)\n",
      "    (2): Linear(in_features=200, out_features=1200, bias=True)\n",
      "  )\n",
      ")\n"
     ]
    }
   ],
   "source": [
    "mps_device = torch.device('mps')\n",
    "rssm_net = models.RSSM(600, 1024, 600, 200, 18).to(mps_device)\n",
    "print(rssm_net)"
   ]
  },
  {
   "cell_type": "code",
   "execution_count": 58,
   "metadata": {},
   "outputs": [],
   "source": [
    "test_act = torch.rand((50, 18)).to(mps_device)\n",
    "test_post = torch.rand((50, 600)).to(mps_device)\n",
    "test_deter = torch.rand((50, 600)).to(mps_device)\n",
    "out = rssm_net.recurrent(test_post, test_act, test_deter)"
   ]
  },
  {
   "cell_type": "code",
   "execution_count": 59,
   "metadata": {},
   "outputs": [
    {
     "data": {
      "text/plain": [
       "torch.Size([50, 600])"
      ]
     },
     "execution_count": 59,
     "metadata": {},
     "output_type": "execute_result"
    }
   ],
   "source": [
    "out.shape"
   ]
  },
  {
   "cell_type": "code",
   "execution_count": 60,
   "metadata": {},
   "outputs": [],
   "source": [
    "test_embed_obs = torch.rand((50,1024)).to(mps_device)\n",
    "dist, out = rssm_net.representation(test_embed_obs, test_deter)"
   ]
  },
  {
   "cell_type": "code",
   "execution_count": 61,
   "metadata": {},
   "outputs": [
    {
     "name": "stdout",
     "output_type": "stream",
     "text": [
      "Normal(loc: torch.Size([50, 600]), scale: torch.Size([50, 600]))\n",
      "torch.Size([50, 600])\n"
     ]
    }
   ],
   "source": [
    "print(dist)\n",
    "print(out.shape)"
   ]
  },
  {
   "cell_type": "code",
   "execution_count": 62,
   "metadata": {},
   "outputs": [
    {
     "name": "stdout",
     "output_type": "stream",
     "text": [
      "Normal(loc: torch.Size([50, 600]), scale: torch.Size([50, 600]))\n",
      "torch.Size([50, 600])\n"
     ]
    }
   ],
   "source": [
    "dist, out = rssm_net.transition(test_deter)\n",
    "print(dist)\n",
    "print(out.shape)"
   ]
  },
  {
   "cell_type": "code",
   "execution_count": 64,
   "metadata": {},
   "outputs": [
    {
     "name": "stdout",
     "output_type": "stream",
     "text": [
      "Actor(\n",
      "  (net): Sequential(\n",
      "    (0): Linear(in_features=1200, out_features=400, bias=True)\n",
      "    (1): ELU(alpha=1.0)\n",
      "    (2): Linear(in_features=400, out_features=36, bias=True)\n",
      "  )\n",
      ")\n"
     ]
    }
   ],
   "source": [
    "actor_net = models.Actor(1200, 400, 18, False)\n",
    "print(actor_net)"
   ]
  },
  {
   "cell_type": "code",
   "execution_count": 66,
   "metadata": {},
   "outputs": [
    {
     "name": "stdout",
     "output_type": "stream",
     "text": [
      "torch.Size([50, 49, 18])\n"
     ]
    }
   ],
   "source": [
    "post = torch.rand((50,49,600))\n",
    "deter = torch.rand((50,49,600))\n",
    "\n",
    "out = actor_net(post, deter)\n",
    "print(out.shape)"
   ]
  },
  {
   "cell_type": "code",
   "execution_count": 70,
   "metadata": {},
   "outputs": [
    {
     "name": "stdout",
     "output_type": "stream",
     "text": [
      "Critic(\n",
      "  (net): Sequential(\n",
      "    (0): Linear(in_features=1200, out_features=400, bias=True)\n",
      "    (1): ELU(alpha=1.0)\n",
      "    (2): Linear(in_features=400, out_features=400, bias=True)\n",
      "    (3): ELU(alpha=1.0)\n",
      "    (4): Linear(in_features=400, out_features=1, bias=True)\n",
      "  )\n",
      ")\n"
     ]
    }
   ],
   "source": [
    "critic_net = models.Critic(1200, 400)\n",
    "print(critic_net)"
   ]
  },
  {
   "cell_type": "code",
   "execution_count": 79,
   "metadata": {},
   "outputs": [
    {
     "name": "stdout",
     "output_type": "stream",
     "text": [
      "Independent(Normal(loc: torch.Size([50, 49, 1]), scale: torch.Size([50, 49, 1])), 1)\n"
     ]
    }
   ],
   "source": [
    "post = torch.rand((50,49,600))\n",
    "deter = torch.rand((50,49,600))\n",
    "\n",
    "out = critic_net(post, deter)\n",
    "print(out)"
   ]
  },
  {
   "cell_type": "code",
   "execution_count": null,
   "metadata": {},
   "outputs": [],
   "source": []
  }
 ],
 "metadata": {
  "kernelspec": {
   "display_name": "world-model",
   "language": "python",
   "name": "python3"
  },
  "language_info": {
   "codemirror_mode": {
    "name": "ipython",
    "version": 3
   },
   "file_extension": ".py",
   "mimetype": "text/x-python",
   "name": "python",
   "nbconvert_exporter": "python",
   "pygments_lexer": "ipython3",
   "version": "3.10.0"
  }
 },
 "nbformat": 4,
 "nbformat_minor": 2
}
