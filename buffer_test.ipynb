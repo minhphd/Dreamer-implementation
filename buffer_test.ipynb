{
 "cells": [
  {
   "cell_type": "code",
   "execution_count": 439,
   "metadata": {},
   "outputs": [
    {
     "name": "stdout",
     "output_type": "stream",
     "text": [
      "The autoreload extension is already loaded. To reload it, use:\n",
      "  %reload_ext autoreload\n"
     ]
    }
   ],
   "source": [
    "import torch\n",
    "\n",
    "import numpy as np\n",
    "import time\n",
    "\n",
    "from buffer import ReplayBuffer\n",
    "import gymnasium as gym        \n",
    "\n",
    "device = torch.device('mps')\n",
    "\n",
    "%load_ext autoreload\n",
    "%autoreload 2"
   ]
  },
  {
   "cell_type": "code",
   "execution_count": 440,
   "metadata": {},
   "outputs": [],
   "source": [
    "class channelFirst(gym.ObservationWrapper):\n",
    "    def __init__(self, env: gym.Env):\n",
    "        gym.ObservationWrapper.__init__(self, env)\n",
    "        \n",
    "    def observation(self, observation):\n",
    "        return observation.T\n",
    "\n",
    "env = gym.make('ALE/Breakout-v5', render_mode=\"rgb_array\")\n",
    "env = gym.wrappers.ResizeObservation(env, shape=(64,64))\n",
    "env = gym.wrappers.NormalizeObservation(env)\n",
    "env = channelFirst(env)\n",
    "obs, _ = env.reset()"
   ]
  },
  {
   "cell_type": "code",
   "execution_count": 441,
   "metadata": {},
   "outputs": [
    {
     "name": "stdout",
     "output_type": "stream",
     "text": [
      "\n",
      "-----------initialized memory----------              \n",
      "\n",
      "obs_buffer_shape: (50, 3, 64, 64)\n",
      "actions_buffer_shape: (50, 1)\n",
      "rewards_buffer_shape: (50, 1)\n",
      "nxt_obs_buffer_shape: (50, 3, 64, 64)\n",
      "dones_buffer_shape: (50, 1)\n",
      "\n",
      "----------------------------------------\n",
      "              \n",
      "0\n"
     ]
    }
   ],
   "source": [
    "buffer = ReplayBuffer(50, env, False)\n",
    "print(len(buffer))"
   ]
  },
  {
   "cell_type": "code",
   "execution_count": 442,
   "metadata": {},
   "outputs": [
    {
     "name": "stderr",
     "output_type": "stream",
     "text": [
      "100%|██████████| 60/60 [00:00<00:00, 957.88it/s]\n"
     ]
    }
   ],
   "source": [
    "from tqdm import tqdm\n",
    "\n",
    "for i in tqdm(range(60)):\n",
    "    action = env.action_space.sample()\n",
    "    next_obs, reward, termination, truncation, _ = env.step(action)\n",
    "    \n",
    "    buffer.add(obs, action, reward, next_obs, termination | truncation)\n",
    "    obs = next_obs"
   ]
  },
  {
   "cell_type": "code",
   "execution_count": 443,
   "metadata": {},
   "outputs": [
    {
     "name": "stdout",
     "output_type": "stream",
     "text": [
      "10\n",
      "True\n"
     ]
    }
   ],
   "source": [
    "print(len(buffer))\n",
    "print(buffer.full)"
   ]
  },
  {
   "cell_type": "code",
   "execution_count": 444,
   "metadata": {},
   "outputs": [
    {
     "name": "stdout",
     "output_type": "stream",
     "text": [
      "torch.Size([50, 5, 3, 64, 64])\n",
      "torch.Size([50, 5, 1])\n",
      "torch.Size([50, 5, 1])\n",
      "torch.Size([50, 5, 3, 64, 64])\n",
      "torch.Size([50, 5, 1])\n"
     ]
    }
   ],
   "source": [
    "obs, actions, rewards, next_obs, dones = buffer.sample(50,5, device)\n",
    "print(obs.shape)\n",
    "print(actions.shape)\n",
    "print(rewards.shape)\n",
    "print(next_obs.shape)\n",
    "print(dones.shape)"
   ]
  }
 ],
 "metadata": {
  "kernelspec": {
   "display_name": "world-model",
   "language": "python",
   "name": "python3"
  },
  "language_info": {
   "codemirror_mode": {
    "name": "ipython",
    "version": 3
   },
   "file_extension": ".py",
   "mimetype": "text/x-python",
   "name": "python",
   "nbconvert_exporter": "python",
   "pygments_lexer": "ipython3",
   "version": "3.10.0"
  }
 },
 "nbformat": 4,
 "nbformat_minor": 2
}
